{
 "cells": [
  {
   "cell_type": "code",
   "execution_count": 10,
   "id": "de017074-0229-4fcd-a1c9-fc608c4e93ad",
   "metadata": {},
   "outputs": [
    {
     "name": "stderr",
     "output_type": "stream",
     "text": [
      "C:\\Users\\Tyler\\AppData\\Local\\Temp\\ipykernel_7720\\1649180709.py:11: DtypeWarning: Columns (3,15) have mixed types. Specify dtype option on import or set low_memory=False.\n",
      "  df = pd.read_csv('Logs/Log00020.csv')\n"
     ]
    }
   ],
   "source": [
    "#! /usr/bin/python3\n",
    "\n",
    "import pandas as pd\n",
    "from matplotlib import pyplot as plt\n",
    "import seaborn as sns\n",
    "from sklearn import linear_model\n",
    "from sklearn.model_selection import train_test_split\n",
    "import statsmodels.api as sm\n",
    "\n",
    "#  Reading in log file\n",
    "df = pd.read_csv('Logs/Log00020.csv') \n",
    "\n",
    "# Removing battery level, roll, pitch, K&Z Temp, and NA row that was added as a buffer.\n",
    "t_fract = df['Time [UTC]']\n",
    "t_fract = (t_fract.str[11:13])\n",
    "t_fract = t_fract.astype(int)\n",
    "\n",
    "# Dropping exta info\n",
    "df = df.iloc[: ,3:]\n",
    "df = df.drop(columns=[\" Bat [V]\", \" R_u [deg]\", \" P_u [deg]\", \" Temp RTC [C]\"])\n",
    "df = df.iloc[: ,:-2]\n",
    "\n",
    "cols = [' UVA_u', ' UVB_u', ' White_u', ' Vis_u [lx]', ' IR_S_u',\n",
    "       ' IR_M_u']\n",
    "       \n",
    "y = df[[' Pyro [uV]']]\n",
    "X = df.drop(columns=[' Pyro [uV]'])\n",
    "\n"
   ]
  },
  {
   "cell_type": "code",
   "execution_count": 13,
   "id": "938d26ff-7f37-47db-a4b2-fe6533513bad",
   "metadata": {},
   "outputs": [
    {
     "name": "stdout",
     "output_type": "stream",
     "text": [
      "(113570, 7)\n"
     ]
    }
   ],
   "source": [
    "# Verify Correct data\n",
    "X.head()\n",
    "print(X.shape)"
   ]
  },
  {
   "cell_type": "code",
   "execution_count": null,
   "id": "5916dc3c-bffa-4b8a-946a-6773a6f0cb66",
   "metadata": {},
   "outputs": [],
   "source": [
    "# split X and y into training and testing sets\n",
    "\n",
    "from sklearn.model_selection import train_test_split\n",
    "\n",
    "X_train, X_test, y_train, y_test = train_test_split(X, y, test_size = 0.2, random_state = 0)"
   ]
  }
 ],
 "metadata": {
  "kernelspec": {
   "display_name": "Python 3 (ipykernel)",
   "language": "python",
   "name": "python3"
  },
  "language_info": {
   "codemirror_mode": {
    "name": "ipython",
    "version": 3
   },
   "file_extension": ".py",
   "mimetype": "text/x-python",
   "name": "python",
   "nbconvert_exporter": "python",
   "pygments_lexer": "ipython3",
   "version": "3.11.1"
  }
 },
 "nbformat": 4,
 "nbformat_minor": 5
}
