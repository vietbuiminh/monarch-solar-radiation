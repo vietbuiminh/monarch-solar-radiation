{
 "cells": [
  {
   "cell_type": "code",
   "execution_count": 2,
   "id": "1f9e57c0-b4a4-4088-923a-3c0b8959a349",
   "metadata": {},
   "outputs": [
    {
     "name": "stderr",
     "output_type": "stream",
     "text": [
      "C:\\Users\\Tyler\\AppData\\Local\\Temp\\ipykernel_6736\\2178759611.py:14: DtypeWarning: Columns (3,15) have mixed types. Specify dtype option on import or set low_memory=False.\n",
      "  df = pd.read_csv('Logs/Log00020.csv', delimiter=',')\n"
     ]
    },
    {
     "ename": "NameError",
     "evalue": "name 'i' is not defined",
     "output_type": "error",
     "traceback": [
      "\u001b[1;31m---------------------------------------------------------------------------\u001b[0m",
      "\u001b[1;31mNameError\u001b[0m                                 Traceback (most recent call last)",
      "Cell \u001b[1;32mIn[2], line 29\u001b[0m\n\u001b[0;32m     25\u001b[0m X \u001b[38;5;241m=\u001b[39m df\u001b[38;5;241m.\u001b[39mdrop(columns\u001b[38;5;241m=\u001b[39m[\u001b[38;5;124m'\u001b[39m\u001b[38;5;124m Pyro [uV]\u001b[39m\u001b[38;5;124m'\u001b[39m, \u001b[38;5;124m\"\u001b[39m\u001b[38;5;124m TempOB [C]\u001b[39m\u001b[38;5;124m\"\u001b[39m])\n\u001b[0;32m     28\u001b[0m \u001b[38;5;28;01mfor\u001b[39;00m col \u001b[38;5;129;01min\u001b[39;00m cols:\n\u001b[1;32m---> 29\u001b[0m     \u001b[43mi\u001b[49m \u001b[38;5;241m+\u001b[39m\u001b[38;5;241m=\u001b[39m \u001b[38;5;241m1\u001b[39m\n\u001b[0;32m     30\u001b[0m     ax \u001b[38;5;241m=\u001b[39m plt\u001b[38;5;241m.\u001b[39msubplot(\u001b[38;5;241m3\u001b[39m, \u001b[38;5;241m2\u001b[39m, i)\n\u001b[0;32m     31\u001b[0m     scatter \u001b[38;5;241m=\u001b[39m ax\u001b[38;5;241m.\u001b[39mscatter( df[\u001b[38;5;124m'\u001b[39m\u001b[38;5;124m Pyro [uV]\u001b[39m\u001b[38;5;124m'\u001b[39m], df[col])\n",
      "\u001b[1;31mNameError\u001b[0m: name 'i' is not defined"
     ]
    }
   ],
   "source": [
    "#! /usr/bin/python3\n",
    "\n",
    "import pandas as pd\n",
    "import numpy as np\n",
    "from matplotlib import pyplot as plt\n",
    "import seaborn as sns\n",
    "import statsmodels.api as sm\n",
    "\n",
    "from sklearn.tree import DecisionTreeClassifier, DecisionTreeRegressor # Import Decision Tree Classifier\n",
    "from sklearn.model_selection import train_test_split # Import train_test_split function\n",
    "from sklearn import metrics #Import scikit-learn metrics module for accuracy calculation\n",
    "\n",
    "#  Reading in log file\n",
    "df = pd.read_csv('Logs/Log00020.csv', delimiter=',') \n",
    "\n",
    "# Dropping exta info\n",
    "df = df.iloc[: ,3:]\n",
    "df = df.drop(columns=[\" Bat [V]\", \" R_u [deg]\", \" P_u [deg]\", \" Temp RTC [C]\"])\n",
    "df = df.iloc[: ,:-2]\n",
    "\n",
    "cols = [' UVA_u', ' UVB_u', ' White_u', ' Vis_u [lx]', ' IR_S_u',\n",
    "       ' IR_M_u']\n",
    "       \n",
    "y = df[[' Pyro [uV]']]\n",
    "X = df.drop(columns=[' Pyro [uV]', \" TempOB [C]\"])\n",
    "\n",
    "i = 0\n",
    "for col in cols:\n",
    "    i += 1\n",
    "    ax = plt.subplot(3, 2, i)\n",
    "    scatter = ax.scatter( df[' Pyro [uV]'], df[col])\n",
    "    # Show estimates here\n",
    "    ax.plot(df[' Pyro [uV]'], df[col], 'ko', color = 'red', alpha=0.05)\n",
    "    ax.set_xlabel(' Pyro [uV]', fontweight='bold')\n",
    "    ax.set_ylabel(col, fontweight='bold')\n",
    "    fig.colorbar(scatter, location='bottom')"
   ]
  },
  {
   "cell_type": "code",
   "execution_count": null,
   "id": "0ac83ec1-7ac2-43c0-9034-8e34fb2a73eb",
   "metadata": {},
   "outputs": [],
   "source": []
  }
 ],
 "metadata": {
  "kernelspec": {
   "display_name": "Python 3 (ipykernel)",
   "language": "python",
   "name": "python3"
  },
  "language_info": {
   "codemirror_mode": {
    "name": "ipython",
    "version": 3
   },
   "file_extension": ".py",
   "mimetype": "text/x-python",
   "name": "python",
   "nbconvert_exporter": "python",
   "pygments_lexer": "ipython3",
   "version": "3.11.1"
  }
 },
 "nbformat": 4,
 "nbformat_minor": 5
}
